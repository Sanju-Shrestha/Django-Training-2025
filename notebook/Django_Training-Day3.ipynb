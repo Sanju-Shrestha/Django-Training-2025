{
 "cells": [
  {
   "cell_type": "markdown",
   "id": "af963af3-e3c4-4ba9-b165-c9db97ef8993",
   "metadata": {},
   "source": [
    "# Django API Development & Deployment"
   ]
  },
  {
   "cell_type": "markdown",
   "id": "1e5855ef-acfc-4a73-b334-2f0b72a83eab",
   "metadata": {},
   "source": [
    "## Session 3: API Development with Django REST Framework - Part 1\n",
    "* Introduction to Django REST Framework\n",
    "* Installing DRF and setting up an API project\n",
    "* Serializers: Converting QuerySets to JSON\n",
    "* Creating API views (APIView, ViewSet, GenericViewSet)\n"
   ]
  },
  {
   "cell_type": "markdown",
   "id": "aec96a38-15c6-4eaa-8c24-939418e46090",
   "metadata": {},
   "source": [
    "In the previous session (Day 2), we built our first Django project and first Django application (Blog application). \n",
    "\n",
    "In Session 3, we will create a RESTful API for e-commerce site. An Application Programming Interface or API is a common programmable interface that can be used on multiple platforms like websites, mobile applications, plugins, and so on. For example, you can create an API to be consumed by a mobile application for our e-commerce site. If you provide an API to third parties, they will be able to consume information and operate with your application programmatically. An API allows developers to automate actions on our platform and integrate our service with other applications or online services. We will build a fully featured API for e-commerce site."
   ]
  },
  {
   "cell_type": "markdown",
   "id": "436ac924-6c68-4bc1-b185-f5513dfe6aa7",
   "metadata": {},
   "source": [
    "### Building a RESTful API"
   ]
  },
  {
   "cell_type": "markdown",
   "id": "5241ae2b-9178-4455-8058-b95f45e1ba40",
   "metadata": {},
   "source": [
    "When building an API, there are several ways you can structure its endpoints and actions, but following \n",
    "REST principles is encouraged.\n",
    "\n",
    "The REST architecture comes from **Representational State Transfer**. RESTful APIs are resource-based; \n",
    "your models represent resources, and HTTP methods such as GET, POST, PUT, or DELETE are used to \n",
    "retrieve, create, update, or delete objects. HTTP response codes are also used in this context. Different HTTP response codes are returned to indicate the result of the HTTP request, for example, 2XX response codes for success, 4XX for errors, and so on.\n",
    "\n",
    "The most common formats to exchange data in RESTful APIs are JSON and XML. We will build a RESTful API with JSON serialization for our project.\n",
    "\n",
    "You can build an API from scratch with Django by creating custom views. However, there are several \n",
    "third-party modules that simplify creating an API for your project; the most popular among them is \n",
    "Django REST framework (DRF).\n",
    "\n",
    "DRF provides a comprehensive set of tools to build RESTful APIs for your projects. The following are \n",
    "some of the most relevant components that we will use to build our API:\n",
    "* Serializers: To transform data into a standardized format that other programs can understand, or to deserialize data, by converting data into a format that your program can process.\n",
    "* Parsers and renderers: To render (or format) serialized data appropriately before it is returned in an HTTP response. Similarly, to parse incoming data to ensure that it’s in the correct form.\n",
    "* API views: To implement the application logic.\n",
    "* URLs: To define the API endpoints that will be available.\n",
    "* Authentication and permissions: To define authentication methods for the API and the per\n",
    "missions required for each view.\n",
    "\n",
    "We will start by installing DRF and, after that, we will learn more about these components to build \n",
    "our first API."
   ]
  },
  {
   "cell_type": "markdown",
   "id": "3233f3cd-188a-4919-8555-803899f79352",
   "metadata": {},
   "source": [
    "#### Installing Django REST framework\n",
    "\n",
    "You can find all the information about DRF at https://www.django-rest-framework.org/.\n",
    " \n",
    "Open the prompt and install the framework with the following command:\n",
    "\n",
    "**pip install djangorestframework==3.15.1**"
   ]
  },
  {
   "cell_type": "markdown",
   "id": "b84b331b-bd0e-484f-b971-dd656baf8fdd",
   "metadata": {},
   "source": [
    "### Creating new project"
   ]
  },
  {
   "cell_type": "markdown",
   "id": "aa08ee81-07de-464e-ae62-686855764b9e",
   "metadata": {},
   "source": [
    "Let’s create a the Django project for our e-commerce site.\n",
    "\n",
    "Run the following command in your anaconda prompt:\n",
    "\n",
    "**django-admin startproject myecommerce**\n"
   ]
  },
  {
   "cell_type": "markdown",
   "id": "40a89190-cb2e-4e44-b2d7-94256bc5a0a0",
   "metadata": {},
   "source": [
    "#### Creating an application\n",
    "\n",
    "Let’s create new Django application. We will build a basic application.\n",
    "\n",
    "Run the following command in the anaconda prompt from the project’s root directory:\n",
    "\n",
    "**python manage.py startapp ecom**\n",
    "\n"
   ]
  },
  {
   "cell_type": "markdown",
   "id": "9e8c5f3e-88e8-48e1-9515-cf746df05ee7",
   "metadata": {},
   "source": [
    "Execute the following command in the anaconda prompt to create new database:\n",
    " \n",
    "**python manage.py migrate**\n",
    "\n"
   ]
  },
  {
   "cell_type": "markdown",
   "id": "15eb2434-8bb7-46f5-b648-b8c1a4c91956",
   "metadata": {},
   "source": [
    "### Creating a superuser\n",
    "\n",
    "Create a user to manage the administration site. Run the following command:\n",
    "\n",
    "**python manage.py createsuperuser**\n",
    "\n",
    "You will see the following output. Enter your desired username, email, and password, as follows:\n",
    " \n",
    "Username (leave blank to use 'admin'): admin\n",
    "\n",
    "Email address: admin@admin.com\n",
    "\n",
    "Password: ********\n",
    "\n",
    "Password (again): *********"
   ]
  },
  {
   "cell_type": "markdown",
   "id": "04dd351f-eb9d-45f9-bda6-864655ca60f4",
   "metadata": {},
   "source": [
    "Edit the settings.py file of the project and add rest_framework and  ecom.apps.EcomConfig to the INSTALLED_APPS setting \n",
    "to activate the application, as follows:"
   ]
  },
  {
   "cell_type": "raw",
   "id": "698629bb-16e3-4b71-9a74-ce490483cd1e",
   "metadata": {},
   "source": [
    " INSTALLED_APPS = [\n",
    " # ...\n",
    " 'rest_framework',\n",
    " 'ecom.apps.EcomConfig',  \n",
    " ]"
   ]
  },
  {
   "cell_type": "markdown",
   "id": "aacd035b-b995-436d-8c41-ee82faba54f9",
   "metadata": {},
   "source": [
    "### Creating the Coupon and Product model\n",
    "\n",
    "First, we will define a Coupon model that will allow us to store coupon codes and discount percentage in the database. Then we will define a Product model that will allow us to store product details in the database.\n",
    "\n",
    "Add the following lines to the models.py file of the ecom application."
   ]
  },
  {
   "cell_type": "raw",
   "id": "ba73acd8-a276-4bce-b516-5415a9611ad8",
   "metadata": {},
   "source": [
    "from django.db import models\n",
    "\n",
    "\n",
    "class Coupon(models.Model):\n",
    "    code = models.CharField(max_length=10, unique=True)\n",
    "    discount = models.IntegerField()\n",
    "    active = models.BooleanField()\n",
    "\n",
    "    def __str__(self):\n",
    "        return self.code\n",
    "\n",
    "class Product(models.Model):\n",
    "    name = models.CharField(max_length=100)\n",
    "    price = models.IntegerField()\n",
    "    description = models.TextField()\n",
    "\n",
    "    def __str__(self):\n",
    "        return self.name\n",
    "        "
   ]
  },
  {
   "cell_type": "markdown",
   "id": "09394549-b9d4-4d9e-9975-c98db737d8ad",
   "metadata": {},
   "source": [
    "### Adding models to the administration site\n",
    "\n",
    "Let’s add our ecom models to the administration site. Edit the admin.py file of the blog application and make it look like this;"
   ]
  },
  {
   "cell_type": "raw",
   "id": "955cedd1-2c15-478a-a695-26574b5fffed",
   "metadata": {},
   "source": [
    "from django.contrib import admin\n",
    "from .models import Coupon, Product\n",
    "\n",
    "admin.site.register(Coupon)\n",
    "admin.site.register(Product)"
   ]
  },
  {
   "cell_type": "markdown",
   "id": "40c32a1e-9d67-4013-8626-f53d743bd411",
   "metadata": {},
   "source": [
    "### Creating and applying migrations\n",
    "\n",
    "Now that we have a data model for ecommerce site, we need to create the corresponding database table. \n",
    "Django comes with a migration system that tracks the changes made to models and enables them to \n",
    "propagate into the database.\n",
    "\n",
    "The migrate command applies migrations for all applications listed in INSTALLED_APPS. It synchronizes the database with the current models and existing migrations.\n",
    "\n",
    "First, we will need to create an initial migration for our Coupon and Product model.\n",
    "\n",
    "Run the following command in the anaconda prompt from the root directory of your project:\n",
    "\n",
    "**python manage.py makemigrations ecom**\n",
    "\n",
    "Django just created the 0001_initial.py file inside the migrations directory of the blog application. \n",
    "This migration contains the SQL statements to create the database table for the Coupon and Product model and the definition of the database index for the publish field.\n",
    "\n",
    "Run the following command from the shell prompt to inspect the SQL output of your first migration:\n",
    "\n",
    "**python manage.py sqlmigrate ecom 0001**\n",
    "\n",
    "Let’s sync the database with the new model.\n",
    "\n",
    "Execute the following command in the anaconda prompt to apply the existing migrations:\n",
    " \n",
    "**python manage.py migrate**"
   ]
  },
  {
   "cell_type": "markdown",
   "id": "6d084152-d156-485c-9b92-ba79a690f0cb",
   "metadata": {},
   "source": [
    "Start the development server by typing the following command in the shell:\n",
    "\n",
    "**python manage.py runserver**\n",
    "\n",
    "Add some items in the Product and offers in the Coupon."
   ]
  },
  {
   "attachments": {
    "916b6cf2-2247-426a-bd8c-932b13de22df.png": {
     "image/png": "[encoded data removed]"
    }
   },
   "cell_type": "markdown",
   "id": "ecd79dc5-25e7-4738-85fd-edd03d10b5df",
   "metadata": {},
   "source": [
    "### Defining serializers\n",
    "\n",
    "After setting up DRF, you need to specify how your data will be serialized. Output data has to be serialized in a specific format, and input data will be deserialized for processing. The framework provides the following classes to build serializers for single objects:\n",
    "* Serializer: Provides serialization for normal Python class instances\n",
    "* ModelSerializer: Provides serialization for model instances\n",
    "* HyperlinkedModelSerializer: The same as ModelSerializer, but it represents object relationships with links rather than primary keys\n",
    "\n",
    "Let’s build our first serializer. Create the following file structure inside the ecom application directory:\n",
    "\n",
    "![image.png](attachment:916b6cf2-2247-426a-bd8c-932b13de22df.png)"
   ]
  },
  {
   "cell_type": "markdown",
   "id": "090e0620-791e-40f2-9b4e-18782a62a66f",
   "metadata": {},
   "source": [
    "We will build all the API functionality inside the api directory to keep everything well organized. Edit the api/serializers.py file and add the following code:\n"
   ]
  },
  {
   "cell_type": "raw",
   "id": "9a540f5f-f4be-426b-8df4-612570799cd0",
   "metadata": {},
   "source": [
    "from rest_framework import serializers\n",
    "from ecom.models import Coupon, Product\n",
    "\n",
    "class CouponSerializer(serializers.Serializer):\n",
    "    id = serializers.IntegerField(read_only=True)\n",
    "    code = serializers.CharField(max_length=10)\n",
    "    discount = serializers.IntegerField()\n",
    "    active = serializers.BooleanField()\n",
    "  "
   ]
  },
  {
   "cell_type": "markdown",
   "id": "c777fc1c-02e2-40f2-b786-92c1beda7c42",
   "metadata": {},
   "source": [
    "### Setup Views\n",
    "\n",
    "Edit views.py"
   ]
  },
  {
   "cell_type": "raw",
   "id": "911207a8-56b3-4948-adea-564771de565a",
   "metadata": {},
   "source": [
    "from rest_framework.response import Response\n",
    "from rest_framework.views import APIView\n",
    "from ecom.models import Coupon\n",
    "from ecom.api.serializers import CouponSerializer\n",
    "\n",
    "\n",
    "class CouponAPIView(APIView):\n",
    "    def get(self, request):\n",
    "        coupons = Coupon.objects.all()\n",
    "        serializer = CouponSerializer(coupons, many=True)\n",
    "        return Response({\"coupons\":serializer.data})\n"
   ]
  },
  {
   "cell_type": "markdown",
   "id": "5562eb99-9877-4160-b3d1-25744738bc78",
   "metadata": {},
   "source": [
    "### Adding URL patterns for your views\n",
    "\n",
    "Let’s add URL patterns for your views. Create a new file inside the ecom/api/ , name it \n",
    "urls.py, and make it look as follows:"
   ]
  },
  {
   "cell_type": "raw",
   "id": "9c97c74a-4dee-401d-988a-c2f5555ba817",
   "metadata": {},
   "source": [
    "from django.urls import path\n",
    "from ecom import views\n",
    "\n",
    "\n",
    "app_name = 'ecom'\n",
    "\n",
    "urlpatterns = [\n",
    "    path('coupons/', views.CouponAPIView.as_view(), name='CouponAPIView'),\n",
    " ]"
   ]
  },
  {
   "cell_type": "markdown",
   "id": "aded4a7c-fa2a-430b-9c3e-7d5a0760758f",
   "metadata": {},
   "source": [
    "Next edit the urls.py file located in the mysite directory of your project and make it look like the following."
   ]
  },
  {
   "cell_type": "raw",
   "id": "ff3ebeea-4ab9-46ca-967e-a787834acd3c",
   "metadata": {},
   "source": [
    "from django.contrib import admin\n",
    "from django.urls import include, path\n",
    "\n",
    "urlpatterns = [\n",
    "    path('admin/', admin.site.urls),\n",
    "    path('api/', include('ecom.api.urls', namespace='api')),\n",
    " ]\n",
    "   "
   ]
  },
  {
   "cell_type": "markdown",
   "id": "376ef6e7-b809-4d9d-b032-dbabe59fdc13",
   "metadata": {},
   "source": [
    "### Consuming the API\n",
    "\n",
    "By making our views available via URLs, we have created our first API endpoints. Let’s now try our \n",
    "own API. Ensure that your server is running with the following command:\n",
    "\n",
    "**python manage.py runserver**"
   ]
  },
  {
   "cell_type": "code",
   "execution_count": null,
   "id": "d2dcfd40-7094-43e7-a5f7-73505183191e",
   "metadata": {},
   "outputs": [],
   "source": []
  }
 ],
 "metadata": {
  "kernelspec": {
   "display_name": "Python 3 (ipykernel)",
   "language": "python",
   "name": "python3"
  },
  "language_info": {
   "codemirror_mode": {
    "name": "ipython",
    "version": 3
   },
   "file_extension": ".py",
   "mimetype": "text/x-python",
   "name": "python",
   "nbconvert_exporter": "python",
   "pygments_lexer": "ipython3",
   "version": "3.12.0"
  }
 },
 "nbformat": 4,
 "nbformat_minor": 5
}

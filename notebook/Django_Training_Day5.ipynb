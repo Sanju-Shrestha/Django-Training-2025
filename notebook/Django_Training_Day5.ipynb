{
 "cells": [
  {
   "cell_type": "markdown",
   "id": "c2ceca2d-db25-4ec8-ac08-e8fc75513486",
   "metadata": {},
   "source": [
    "# Django API Development & Deployment"
   ]
  },
  {
   "cell_type": "markdown",
   "id": "e4b7c9b2-8c66-421f-9de8-1601e02b4d91",
   "metadata": {},
   "source": [
    "## Session 5: User Authentication & Role-Based Access Control\n",
    "* Django Authentication System\n",
    "* Creating and managing user accounts\n",
    "* Implementing login, logout, and password reset\n",
    "* Role-Based Access Control\n",
    "* User permissions & groups\n",
    "* Restricting access using login_required and permission_required"
   ]
  },
  {
   "cell_type": "markdown",
   "id": "cf4ae500-c0d0-45c5-a0ce-9804e1c64fa1",
   "metadata": {},
   "source": [
    "### **Session-Based Authentication vs JWT-Based Authentication**\n",
    "\n",
    "#### **Session-Based Authentication**\n",
    "\n",
    "In session-based authentication, user login information is stored on the server side, and the client is given a **Session ID** as a reference to that stored data.\n",
    "\n",
    "**Analogy:**  \n",
    "Think of it like receiving only a **Ticket ID** for your flight — all your details are securely stored in the airline’s database.\n",
    "\n",
    "**How it Works:**\n",
    "1. The user logs in by sending credentials to the backend.\n",
    "2. The backend verifies the credentials and creates a session, storing it in the server-side session store.\n",
    "3. A unique **Session ID** is sent to the client as a cookie.\n",
    "4. For every request, the browser sends this Session ID back to the server.\n",
    "5. The server looks up the session to authenticate the user.\n",
    "\n",
    "**Pros:**\n",
    "- Easy to implement and widely supported.\n",
    "- Session data is kept secure on the server.\n",
    "\n",
    "**Cons:**\n",
    "- Requires server-side storage (not ideal for large-scale systems).\n",
    "- Doesn’t scale easily across distributed systems unless session sharing is configured.\n",
    "\n",
    "#### **JWT-Based Authentication (JSON Web Tokens)**\n",
    "\n",
    "JWTs are **stateless** and **self-contained** tokens that carry all necessary information about the user.\n",
    "\n",
    "**Analogy:**  \n",
    "It’s like receiving a **flight ticket with all your details printed and encoded on it** — no need to look it up in a database.\n",
    "\n",
    "**How it Works:**\n",
    "1. The user sends a login request.\n",
    "2. The server verifies the credentials and issues a **JWT**, signed with a secret key.\n",
    "3. The client receives the JWT and stores it (usually in a cookie or local storage).\n",
    "4. For every request, the JWT is sent to the server.\n",
    "5. The server verifies the signature and decodes the token to extract user data.\n",
    "\n",
    "**Pros:**\n",
    "- Stateless: no need for session storage, which simplifies horizontal scaling.\n",
    "- Portable and widely used in modern APIs and microservices.\n",
    "\n",
    "**Cons:**\n",
    "- Cannot be easily invalidated before expiration (e.g., logout).\n",
    "- Risk of **stale data** if user information changes after the token is issued.\n",
    "- Larger payload size compared to session IDs, which may impact performance.\n",
    "\n",
    "#### **So, which one is better?**\n",
    "\n",
    "It depends on the needs of your application:\n",
    "\n",
    "- Choose **Session-Based Authentication** for simpler, server-rendered apps or apps with centralized servers.\n",
    "- Choose **JWT-Based Authentication** for **stateless APIs**, **mobile apps**, or **microservices** where scalability and portability are key.\n",
    "\n",
    "**Pro Tip:**  \n",
    "For many modern web applications, JWTs are preferred for APIs due to their stateless nature, but session-based auth can still be a solid choice when simplicity and tighter control over sessions are needed.\n"
   ]
  },
  {
   "cell_type": "markdown",
   "id": "7996e8d2-c165-47ed-b088-efc8026a7be9",
   "metadata": {},
   "source": [
    "<img src=\"https://pbs.twimg.com/tweet_video_thumb/GNizd5KXkAAUkS8.jpg:large\" width=\"750\" align=\"center\">"
   ]
  },
  {
   "cell_type": "markdown",
   "id": "9630b6bf-36f9-4328-a96e-95fc21e6c3e7",
   "metadata": {},
   "source": [
    "### Libraries installations"
   ]
  },
  {
   "cell_type": "markdown",
   "id": "da119ddc-62f6-4d71-871a-642d6ead40bf",
   "metadata": {},
   "source": [
    "**pip install crispy-bootstrap5**"
   ]
  },
  {
   "cell_type": "markdown",
   "id": "f397ee24-1bd5-4ba5-9056-0a035a59706d",
   "metadata": {},
   "source": [
    "### Start a new project"
   ]
  },
  {
   "cell_type": "markdown",
   "id": "29a1fb9e-3de1-41bc-963a-1133ef89aabd",
   "metadata": {},
   "source": [
    "**django-admin startproject auth_project**"
   ]
  },
  {
   "cell_type": "markdown",
   "id": "acbde2a7-814b-40d3-a4fc-22d62d4a48fb",
   "metadata": {},
   "source": [
    "**cd auth_project**"
   ]
  },
  {
   "cell_type": "markdown",
   "id": "44938881-17d9-4f70-9a29-d43cb8e0a4c6",
   "metadata": {},
   "source": [
    "### Create new app"
   ]
  },
  {
   "cell_type": "markdown",
   "id": "5c0917db-e80e-4012-a474-a3cb0e8c3c5c",
   "metadata": {},
   "source": [
    "**python manage.py startapp accounts**"
   ]
  },
  {
   "cell_type": "raw",
   "id": "dd8eb0d1-5405-42dc-8ca0-3deb36ad0062",
   "metadata": {},
   "source": [
    "auth_porject/\n",
    "├── accounts/\n",
    "│   ├── migrations/\n",
    "│   ├── templates/\n",
    "│   │   ├── accounts/\n",
    "│   │   │   ├── base.html\n",
    "│   │   │   ├── home.html\n",
    "│   │   │   ├── profile.html\n",
    "|   |   |   |──signup.html\n",
    "│   │   │   └── create_post.html\n",
    "│   │   └── registration/\n",
    "│   │       └── login.html\n",
    "│   ├── __init__.py\n",
    "│   ├── admin.py\n",
    "│   ├── apps.py\n",
    "│   ├── forms.py\n",
    "│   ├── models.py\n",
    "│   ├── urls.py\n",
    "│   └── views.py\n",
    "└── auth_system/\n",
    "    ├── __init__.py\n",
    "    ├── settings.py\n",
    "    ├── urls.py\n",
    "    └── wsgi.py"
   ]
  },
  {
   "cell_type": "markdown",
   "id": "58d7706f-4544-49e3-adf5-8cf449420dc0",
   "metadata": {},
   "source": [
    "### Update settings.py"
   ]
  },
  {
   "cell_type": "raw",
   "id": "16b16358-74f2-4bfb-b360-3181a73c96a2",
   "metadata": {},
   "source": [
    "INSTALLED_APPS = [\n",
    "    ...\n",
    "    'accounts.apps.AccountsConfig',\n",
    "    'crispy_forms',\n",
    "    'crispy_bootstrap5',\n",
    "]\n",
    "\n",
    "AUTH_USER_MODEL = 'accounts.CustomUser'  # MUST BE BEFORE FIRST MIGRATE\n",
    "\n",
    "CRISPY_TEMPLATE_PACK = 'bootstrap5'\n",
    "\n",
    "LOGIN_REDIRECT_URL = 'home'\n",
    "LOGOUT_REDIRECT_URL = 'home'\n",
    "LOGIN_URL = 'login'"
   ]
  },
  {
   "cell_type": "markdown",
   "id": "c00685b4-8b2b-4df7-b61a-3d74edb72431",
   "metadata": {},
   "source": [
    "### Create Custom User Model (accounts/models.py)"
   ]
  },
  {
   "cell_type": "raw",
   "id": "0051d986-164f-48de-a296-f3a3562ebf4a",
   "metadata": {},
   "source": [
    "from django.contrib.auth.models import AbstractUser\n",
    "from django.db import models\n",
    "from django.urls import reverse\n",
    "\n",
    "class CustomUser(AbstractUser):\n",
    "    is_banned = models.BooleanField(default=False)\n",
    "    \n",
    "    def get_absolute_url(self):\n",
    "        return reverse('profile')\n",
    "    \n",
    "    def __str__(self):\n",
    "        return self.username"
   ]
  },
  {
   "cell_type": "markdown",
   "id": "405da190-31b1-47c8-a926-6700e6c0bd9a",
   "metadata": {},
   "source": [
    "### Create Initial Migration"
   ]
  },
  {
   "cell_type": "markdown",
   "id": "f4e6df09-3aef-42d5-a5b9-345d8038decd",
   "metadata": {},
   "source": [
    "**python manage.py makemigrations**\n",
    "\n",
    "**python manage.py migrate**"
   ]
  },
  {
   "cell_type": "markdown",
   "id": "83acdc72-1b40-4e97-9bd1-21c2f98d215e",
   "metadata": {},
   "source": [
    "### Update admin.py for User Management"
   ]
  },
  {
   "cell_type": "raw",
   "id": "49f8b86d-b6de-4ba2-a7c2-3419bc044552",
   "metadata": {},
   "source": [
    "from django.contrib import admin\n",
    "from django.contrib.auth.admin import UserAdmin\n",
    "from .models import CustomUser\n",
    "\n",
    "class CustomUserAdmin(UserAdmin):\n",
    "    list_display = ('username', 'email', 'is_staff', 'is_banned')\n",
    "    list_filter = ('is_staff', 'is_superuser', 'is_banned')\n",
    "    actions = ['ban_users', 'unban_users']\n",
    "\n",
    "    def ban_users(self, request, queryset):\n",
    "        queryset.update(is_banned=True)\n",
    "    ban_users.short_description = \"Ban selected users\"\n",
    "\n",
    "    def unban_users(self, request, queryset):\n",
    "        queryset.update(is_banned=False)\n",
    "    unban_users.short_description = \"Unban selected users\"\n",
    "\n",
    "admin.site.register(CustomUser, CustomUserAdmin)"
   ]
  },
  {
   "cell_type": "markdown",
   "id": "2ad769cc-37cc-40cb-baeb-33702a07de9a",
   "metadata": {},
   "source": [
    "### Create Forms (accounts/forms.py)"
   ]
  },
  {
   "cell_type": "raw",
   "id": "ab74b862-8cba-47dc-adbe-807e139ba69f",
   "metadata": {},
   "source": [
    "from django import forms\n",
    "from django.contrib.auth.forms import UserCreationForm\n",
    "from .models import CustomUser\n",
    "\n",
    "class CustomUserCreationForm(UserCreationForm):\n",
    "    email = forms.EmailField(required=True)\n",
    "\n",
    "    class Meta:\n",
    "        model = CustomUser\n",
    "        fields = ('username', 'email', 'password1', 'password2')\n",
    "\n",
    "class PostForm(forms.Form):\n",
    "    title = forms.CharField(max_length=100)\n",
    "    content = forms.CharField(widget=forms.Textarea)"
   ]
  },
  {
   "cell_type": "markdown",
   "id": "8bf0e6a2-a79d-4ff5-991c-bf617db6fe65",
   "metadata": {},
   "source": [
    "### Create Views (accounts/views.py)"
   ]
  },
  {
   "cell_type": "raw",
   "id": "d524da51-13a2-4fdb-9a3f-531dc8765b39",
   "metadata": {},
   "source": [
    "from django.shortcuts import render, redirect\n",
    "from django.contrib.auth import login\n",
    "from django.contrib.auth.decorators import login_required, permission_required\n",
    "from django.contrib.auth.mixins import LoginRequiredMixin\n",
    "from django.views.generic import CreateView\n",
    "from django.http import HttpResponseForbidden\n",
    "from .forms import CustomUserCreationForm, PostForm\n",
    "from .models import CustomUser\n",
    "\n",
    "def home(request):\n",
    "    return render(request, 'accounts/home.html')\n",
    "\n",
    "class SignUpView(CreateView):\n",
    "    form_class = CustomUserCreationForm\n",
    "    success_url = '/login/'\n",
    "    template_name = 'accounts/signup.html'\n",
    "\n",
    "    def form_valid(self, form):\n",
    "        response = super().form_valid(form)\n",
    "        login(self.request, self.object)\n",
    "        return response\n",
    "\n",
    "@login_required\n",
    "def profile(request):\n",
    "    if request.user.is_banned:\n",
    "        return HttpResponseForbidden(\"Your account is banned\")\n",
    "    return render(request, 'accounts/profile.html', {'user': request.user})\n",
    "\n",
    "@login_required\n",
    "@permission_required('accounts.add_post', raise_exception=True)\n",
    "def create_post(request):\n",
    "    if request.user.is_banned:\n",
    "        return HttpResponseForbidden(\"Your account is banned\")\n",
    "        \n",
    "    if request.method == 'POST':\n",
    "        form = PostForm(request.POST)\n",
    "        if form.is_valid():\n",
    "            return redirect('home')\n",
    "    else:\n",
    "        form = PostForm()\n",
    "    return render(request, 'accounts/create_post.html', {'form': form})"
   ]
  },
  {
   "cell_type": "markdown",
   "id": "16aadd6a-b4a7-465c-8b2d-1aac70d4ecb0",
   "metadata": {},
   "source": [
    "### Create URLs (auth_project/urls.py)"
   ]
  },
  {
   "cell_type": "raw",
   "id": "1e3da4d2-01a5-402b-be67-213f6d722185",
   "metadata": {},
   "source": [
    "from django.contrib import admin\n",
    "from django.urls import path, include\n",
    "\n",
    "urlpatterns = [\n",
    "    path('admin/', admin.site.urls),\n",
    "    path('', include('accounts.urls')),  # This connects to your accounts app\n",
    "]"
   ]
  },
  {
   "cell_type": "markdown",
   "id": "5850fe91-8b3c-4b00-a8b3-32fa406d1915",
   "metadata": {},
   "source": [
    "### Create URLs (accounts/urls.py)"
   ]
  },
  {
   "cell_type": "raw",
   "id": "cbde8f44-df89-47f4-9a39-8e87e6dd3745",
   "metadata": {},
   "source": [
    "from django.urls import path\n",
    "from django.contrib.auth import views as auth_views\n",
    "from . import views\n",
    "\n",
    "urlpatterns = [\n",
    "    path('', views.home, name='home'),\n",
    "    path('signup/', views.SignUpView.as_view(), name='signup'),\n",
    "    path('login/', auth_views.LoginView.as_view(template_name='registration/login.html'), name='login'),\n",
    "    path('logout/', auth_views.LogoutView.as_view(), name='logout'),\n",
    "    path('profile/', views.profile, name='profile'),\n",
    "    path('create-post/', views.create_post, name='create_post'),\n",
    "]"
   ]
  },
  {
   "cell_type": "markdown",
   "id": "f2f830ef-8c2d-489e-a712-3fd0f9fe0441",
   "metadata": {},
   "source": [
    "### Create Templates\n",
    "#### Base Template (accounts/templates/accounts/base.html)"
   ]
  },
  {
   "cell_type": "raw",
   "id": "69f40660-54ff-441e-8e0a-85264775043e",
   "metadata": {},
   "source": [
    "<!DOCTYPE html>\n",
    "<html>\n",
    "<head>\n",
    "    <title>Auth System</title>\n",
    "    <link href=\"https://cdn.jsdelivr.net/npm/bootstrap@5.1.3/dist/css/bootstrap.min.css\" rel=\"stylesheet\">\n",
    "</head>\n",
    "<body>\n",
    "    <nav class=\"navbar navbar-expand-lg navbar-dark bg-dark\">\n",
    "        <div class=\"container\">\n",
    "            <a class=\"navbar-brand\" href=\"{% url 'home' %}\">Auth System</a>\n",
    "            <div class=\"navbar-nav\">\n",
    "                {% if user.is_authenticated %}\n",
    "                    <a class=\"nav-link\" href=\"{% url 'profile' %}\">Profile</a>\n",
    "                    {% if perms.accounts.add_post %}\n",
    "                        <a class=\"nav-link\" href=\"{% url 'create_post' %}\">Create Post</a>\n",
    "                    {% endif %}\n",
    "                    <a class=\"nav-link\" href=\"{% url 'logout' %}\">Logout</a>\n",
    "                {% else %}\n",
    "                    <a class=\"nav-link\" href=\"{% url 'login' %}\">Login</a>\n",
    "                    <a class=\"nav-link\" href=\"{% url 'signup' %}\">Sign Up</a>\n",
    "                {% endif %}\n",
    "            </div>\n",
    "        </div>\n",
    "    </nav>\n",
    "    <div class=\"container mt-4\">\n",
    "        {% block content %}{% endblock %}\n",
    "    </div>\n",
    "</body>\n",
    "</html>"
   ]
  },
  {
   "cell_type": "markdown",
   "id": "79673524-007c-43e8-ab8f-d931c685945b",
   "metadata": {},
   "source": [
    "#### Home Page (accounts/templates/accounts/home.html)"
   ]
  },
  {
   "cell_type": "raw",
   "id": "0fc1777c-c9b0-4e85-86c7-9e42f89676bc",
   "metadata": {},
   "source": [
    "{% extends 'accounts/base.html' %}\n",
    "\n",
    "{% block content %}\n",
    "<h1>Welcome to our Auth System</h1>\n",
    "{% if user.is_authenticated %}\n",
    "    <p>Hello, {{ user.username }}!</p>\n",
    "    {% if user.is_banned %}\n",
    "        <div class=\"alert alert-danger\">Your account has been banned.</div>\n",
    "    {% endif %}\n",
    "{% else %}\n",
    "    <p>Please login or sign up to continue.</p>\n",
    "{% endif %}\n",
    "{% endblock %}"
   ]
  },
  {
   "cell_type": "markdown",
   "id": "50fd3ccc-576f-4fbf-8fdd-b5c1b6951ffc",
   "metadata": {},
   "source": [
    "#### Login Page (accounts/templates/registration/login.html)"
   ]
  },
  {
   "cell_type": "raw",
   "id": "5182e1b1-05a7-4379-adc9-815b679a5227",
   "metadata": {},
   "source": [
    "{% extends 'accounts/base.html' %}\n",
    "\n",
    "{% block content %}\n",
    "<h2>Login</h2>\n",
    "<form method=\"post\">\n",
    "    {% csrf_token %}\n",
    "    {{ form.as_p }}\n",
    "    <button type=\"submit\" class=\"btn btn-primary\">Login</button>\n",
    "</form>\n",
    "{% endblock %}"
   ]
  },
  {
   "cell_type": "markdown",
   "id": "707922a7-bfeb-4762-8621-554c58d43f24",
   "metadata": {},
   "source": [
    "#### Signup Page (accounts/templates/accounts/signup.html)"
   ]
  },
  {
   "cell_type": "raw",
   "id": "9526ecae-7802-43e0-8ac4-26d583230e9b",
   "metadata": {},
   "source": [
    "{% extends 'accounts/base.html' %}\n",
    "\n",
    "{% block content %}\n",
    "<h2>Sign Up</h2>\n",
    "<form method=\"post\">\n",
    "    {% csrf_token %}\n",
    "    {{ form.as_p }}\n",
    "    <button type=\"submit\" class=\"btn btn-primary\">Sign Up</button>\n",
    "</form>\n",
    "{% endblock %}"
   ]
  },
  {
   "cell_type": "markdown",
   "id": "d7c370c2-23b4-4793-a076-cdbc2d0fc358",
   "metadata": {},
   "source": [
    "#### Profile Page (accounts/templates/accounts/profile.html)"
   ]
  },
  {
   "cell_type": "raw",
   "id": "e12d891c-9380-45d6-a9aa-aabbedf72694",
   "metadata": {},
   "source": [
    "{% extends 'accounts/base.html' %}\n",
    "\n",
    "{% block content %}\n",
    "<h2>Profile</h2>\n",
    "<p>Username: {{ user.username }}</p>\n",
    "<p>Email: {{ user.email }}</p>\n",
    "<p>Status: {% if user.is_banned %}Banned{% else %}Active{% endif %}</p>\n",
    "{% endblock %}"
   ]
  },
  {
   "cell_type": "markdown",
   "id": "03e5ae35-e8ac-4525-8204-25ddf560f957",
   "metadata": {},
   "source": [
    "#### Create Post Page (accounts/templates/accounts/create_post.html)"
   ]
  },
  {
   "cell_type": "raw",
   "id": "2f1bb854-4c2a-4092-a232-3778813e64e1",
   "metadata": {},
   "source": [
    "{% extends 'accounts/base.html' %}\n",
    "\n",
    "{% block content %}\n",
    "<h2>Create New Post</h2>\n",
    "<form method=\"post\">\n",
    "    {% csrf_token %}\n",
    "    {{ form.as_p }}\n",
    "    <button type=\"submit\" class=\"btn btn-primary\">Submit</button>\n",
    "</form>\n",
    "{% endblock %}"
   ]
  },
  {
   "cell_type": "markdown",
   "id": "47170054-5a88-4ce1-88d4-3f7663155593",
   "metadata": {},
   "source": [
    "### Create the Migration File\n",
    "\n",
    "**python manage.py makemigrations --empty accounts --name add_post_permission**"
   ]
  },
  {
   "cell_type": "markdown",
   "id": "62dde797-6966-4836-a223-395cbf9c6281",
   "metadata": {},
   "source": [
    "### Edit the Migration File\n",
    "\n",
    "Open the newly created migration file (accounts/migrations/0002_add_post_permission.py) and modify it:"
   ]
  },
  {
   "cell_type": "raw",
   "id": "a255b869-5515-41ad-ae9a-1088993711e3",
   "metadata": {},
   "source": [
    "from django.db import migrations\n",
    "\n",
    "def create_permission(apps, schema_editor):\n",
    "    Permission = apps.get_model('auth', 'Permission')\n",
    "    ContentType = apps.get_model('contenttypes', 'ContentType')\n",
    "    CustomUser = apps.get_model('accounts', 'CustomUser')\n",
    "    \n",
    "    content_type = ContentType.objects.get_for_model(CustomUser)\n",
    "    Permission.objects.get_or_create(\n",
    "        codename='add_post',\n",
    "        name='Can add post',\n",
    "        content_type=content_type,\n",
    "    )\n",
    "\n",
    "class Migration(migrations.Migration):\n",
    "    dependencies = [\n",
    "        ('accounts', '0001_initial'),  # Your initial migration\n",
    "    ]\n",
    "\n",
    "    operations = [\n",
    "        migrations.RunPython(create_permission),\n",
    "    ]"
   ]
  },
  {
   "cell_type": "markdown",
   "id": "72ddbfa2-6d95-43ca-8230-6e66e5cb491d",
   "metadata": {},
   "source": [
    "### Apply the migration\n",
    "\n",
    "**python manage.py migrate**"
   ]
  },
  {
   "cell_type": "markdown",
   "id": "8880d72a-2352-4f09-8801-fc6faef530eb",
   "metadata": {},
   "source": [
    "### Create a Superuser\n",
    "\n",
    "**python manage.py createsuperuser**"
   ]
  },
  {
   "cell_type": "markdown",
   "id": "e4796951-cee4-48ac-bfce-ed1641650ac2",
   "metadata": {},
   "source": [
    "### Run the Project"
   ]
  },
  {
   "cell_type": "markdown",
   "id": "266c8639-d7c0-48fe-a013-1d0280363c60",
   "metadata": {},
   "source": [
    "**python manage.py runserver**"
   ]
  },
  {
   "cell_type": "markdown",
   "id": "e10aa2f9-0018-477f-a4e4-4d0f367fe5be",
   "metadata": {},
   "source": [
    "### Verification Steps\n",
    "\n",
    "* Check in Admin Panel:\n",
    "    * Go to /admin/auth/group/\n",
    "        * Create a new group (e.g., \"Editors\")\n",
    "            * You should see the \"Can add post\" permission available to assign"
   ]
  },
  {
   "cell_type": "markdown",
   "id": "54721dfe-f18b-4e35-a8d7-ea8039a55694",
   "metadata": {},
   "source": [
    "### Check in Shell:\n",
    "\n",
    "**python manage.py shell**\n",
    "\n",
    "\n",
    "**from django.contrib.auth.models import Permission**\n",
    "\n",
    "**Permission.objects.filter(codename='add_post').exists()**  # Should return True"
   ]
  },
  {
   "cell_type": "markdown",
   "id": "bb72b671-8639-46a0-9bd8-e7c699bb26ad",
   "metadata": {},
   "source": [
    "### Create test users"
   ]
  },
  {
   "cell_type": "markdown",
   "id": "cab3e74d-ca95-43fd-85e7-acf267183002",
   "metadata": {},
   "source": [
    "**from accounts.models import CustomUser**\n",
    "\n",
    "**user1 = CustomUser.objects.create_user('staff_user', 'staff@test.com', 'testpass123', is_staff=True)**\n",
    "\n",
    "**user2 = CustomUser.objects.create_user('regular_user', 'regular@test.com', 'testpass123')**\n",
    "\n",
    "**user3 = CustomUser.objects.create_user('banned_user', 'banned@test.com', 'testpass123', is_banned=True)**"
   ]
  },
  {
   "cell_type": "markdown",
   "id": "2b4f219d-eadf-4a1a-9699-c176b9c12e02",
   "metadata": {},
   "source": []
  },
  {
   "cell_type": "code",
   "execution_count": null,
   "id": "7c5761ad-2c5c-4a0e-a5be-5c2e1ab2487a",
   "metadata": {},
   "outputs": [],
   "source": []
  }
 ],
 "metadata": {
  "kernelspec": {
   "display_name": "Python 3 (ipykernel)",
   "language": "python",
   "name": "python3"
  },
  "language_info": {
   "codemirror_mode": {
    "name": "ipython",
    "version": 3
   },
   "file_extension": ".py",
   "mimetype": "text/x-python",
   "name": "python",
   "nbconvert_exporter": "python",
   "pygments_lexer": "ipython3",
   "version": "3.12.0"
  }
 },
 "nbformat": 4,
 "nbformat_minor": 5
}
